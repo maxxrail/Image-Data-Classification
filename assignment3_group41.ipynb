{
 "cells": [
  {
   "cell_type": "markdown",
   "metadata": {},
   "source": [
    "## Data Preprocessing ##"
   ]
  },
  {
   "cell_type": "code",
   "execution_count": null,
   "metadata": {},
   "outputs": [],
   "source": [
    "import numpy as np\n",
    "import pandas as pd\n",
    "\n",
    "# Load the training and test data\n",
    "train_df = pd.read_csv('archive/sign_mnist_train.csv')\n",
    "test_df = pd.read_csv('archive/sign_mnist_test.csv')\n",
    "\n",
    "# Separate features and labels\n",
    "x_train = train_df.drop('label', axis=1).values\n",
    "y_train = train_df['label'].values\n",
    "x_test = test_df.drop('label', axis=1).values\n",
    "y_test = test_df['label'].values\n",
    "\n",
    "# Mean subtraction\n",
    "x_train = x_train - np.mean(x_train, axis=0)\n",
    "x_test = x_test - np.mean(x_test, axis=0)\n",
    "\n",
    "# Normalization \n",
    "x_train = x_train / np.std(x_train)\n",
    "x_test = x_test / np.std(x_test)\n",
    "\n",
    "# Confirm preprocessing\n",
    "print(\"Training data shape:\", x_train.shape)\n",
    "print(\"Test data shape:\", x_test.shape)"
   ]
  }
 ],
 "metadata": {
  "kernelspec": {
   "display_name": "Python 3",
   "language": "python",
   "name": "python3"
  },
  "language_info": {
   "name": "python",
   "version": "3.11.8"
  }
 },
 "nbformat": 4,
 "nbformat_minor": 2
}
